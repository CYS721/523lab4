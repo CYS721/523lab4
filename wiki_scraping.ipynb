{
 "cells": [
  {
   "cell_type": "code",
   "execution_count": 1,
   "metadata": {},
   "outputs": [],
   "source": [
    "from bs4 import BeautifulSoup\n",
    "from urllib.request import urlopen\n",
    "from bs4 import Tag\n",
    "import re\n",
    "import wikipediaapi as wiki\n",
    "import time\n",
    "\n",
    "def remove_footnote(text):\n",
    "    text = re.sub(r'\\[\\d+\\]', '', text)\n",
    "    text = re.sub(r'\\[note \\d+\\]', '', text)\n",
    "    text = re.sub(r'\\xa0', ' ', text)\n",
    "    text = text.split('\\n')\n",
    "    if len(text)==1:\n",
    "        return text[0]\n",
    "    return text\n",
    "\n",
    "def get_content_list(soup):\n",
    "    vcard = soup.find(\"table\", {\"class\" : \"infobox vcard\"})\n",
    "    keys = vcard.find_all(\"th\", {\"class\": \"infobox-label\"})\n",
    "    values = vcard.find_all(\"td\", {\"class\": \"infobox-data\"})\n",
    "    keys_lst = [remove_footnote(key.text) for key in keys]\n",
    "    values_lst = [remove_footnote(value.text) for value in values]\n",
    "    content_dict = {key: value for key, value in list(zip(keys_lst, values_lst))}\n",
    "    return content_dict"
   ]
  },
  {
   "cell_type": "code",
   "execution_count": 2,
   "metadata": {},
   "outputs": [],
   "source": [
    "school_lst = [\n",
    "    \"University of British Columbia\",\n",
    "]\n",
    "\n",
    "wiki_browser = wiki.Wikipedia('COLX 523 App', 'en')\n",
    "for school in school_lst:\n",
    "    page = wiki_browser.page(school)\n",
    "    if not page.exists():\n",
    "        continue\n",
    "    \n",
    "    url = page.fullurl\n",
    "    summary = page.summary\n",
    "\n",
    "    soup = BeautifulSoup(urlopen(url), 'html.parser')\n",
    "    content_dict = get_content_list(soup)\n",
    "    content_dict['summary'] = summary\n",
    "\n",
    "    time.sleep(1)"
   ]
  },
  {
   "cell_type": "code",
   "execution_count": null,
   "metadata": {},
   "outputs": [],
   "source": []
  }
 ],
 "metadata": {
  "kernelspec": {
   "display_name": "base",
   "language": "python",
   "name": "python3"
  },
  "language_info": {
   "codemirror_mode": {
    "name": "ipython",
    "version": 3
   },
   "file_extension": ".py",
   "mimetype": "text/x-python",
   "name": "python",
   "nbconvert_exporter": "python",
   "pygments_lexer": "ipython3",
   "version": "3.11.4"
  }
 },
 "nbformat": 4,
 "nbformat_minor": 2
}
